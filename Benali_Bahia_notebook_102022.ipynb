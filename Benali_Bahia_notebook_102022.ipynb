{
 "cells": [
  {
   "cell_type": "markdown",
   "metadata": {},
   "source": [
    "# 1. importation des librairies et preparation des données"
   ]
  },
  {
   "cell_type": "markdown",
   "metadata": {},
   "source": [
    "## 1.1 importation des librairies"
   ]
  },
  {
   "cell_type": "code",
   "execution_count": 29,
   "metadata": {},
   "outputs": [],
   "source": [
    "\n",
    "import pandas as pd\n",
    "import numpy as np\n",
    "import matplotlib.pyplot as plt\n",
    "import seaborn as sns"
   ]
  },
  {
   "cell_type": "code",
   "execution_count": 30,
   "metadata": {},
   "outputs": [],
   "source": [
    "pd.set_option('display.max_columns', None)\n",
    "pd.set_option('display.max_rows', None) "
   ]
  },
  {
   "cell_type": "markdown",
   "metadata": {},
   "source": [
    "## 1.2 importation des dataframes"
   ]
  },
  {
   "cell_type": "code",
   "execution_count": 31,
   "metadata": {},
   "outputs": [],
   "source": [
    "aide = pd.read_csv('./sources/aide_alimentaire.csv')\n",
    "dispo = pd.read_csv('./sources/dispo_alimentaire.csv')\n",
    "pop = pd.read_csv('./sources/population.csv')\n",
    "lack = pd.read_csv('./sources/sous_nutrition.csv')\n",
    "fao_stat =  pd.read_csv('./sources/FAOSTAT.csv')"
   ]
  },
  {
   "cell_type": "markdown",
   "metadata": {},
   "source": [
    "## 1.3 preparation des dataframes"
   ]
  },
  {
   "cell_type": "code",
   "execution_count": 32,
   "metadata": {},
   "outputs": [
    {
     "data": {
      "text/html": [
       "<div>\n",
       "<style scoped>\n",
       "    .dataframe tbody tr th:only-of-type {\n",
       "        vertical-align: middle;\n",
       "    }\n",
       "\n",
       "    .dataframe tbody tr th {\n",
       "        vertical-align: top;\n",
       "    }\n",
       "\n",
       "    .dataframe thead th {\n",
       "        text-align: right;\n",
       "    }\n",
       "</style>\n",
       "<table border=\"1\" class=\"dataframe\">\n",
       "  <thead>\n",
       "    <tr style=\"text-align: right;\">\n",
       "      <th></th>\n",
       "      <th>Zone</th>\n",
       "      <th>Année</th>\n",
       "      <th>Unité</th>\n",
       "      <th>Valeur</th>\n",
       "      <th>Description du Symbole</th>\n",
       "    </tr>\n",
       "  </thead>\n",
       "  <tbody>\n",
       "    <tr>\n",
       "      <th>13</th>\n",
       "      <td>Australie</td>\n",
       "      <td>2016-2018</td>\n",
       "      <td>%</td>\n",
       "      <td>2.5</td>\n",
       "      <td>Valeur estimée</td>\n",
       "    </tr>\n",
       "    <tr>\n",
       "      <th>18</th>\n",
       "      <td>Autriche</td>\n",
       "      <td>2016-2018</td>\n",
       "      <td>%</td>\n",
       "      <td>2.5</td>\n",
       "      <td>Valeur estimée</td>\n",
       "    </tr>\n",
       "    <tr>\n",
       "      <th>23</th>\n",
       "      <td>Azerbaïdjan</td>\n",
       "      <td>2016-2018</td>\n",
       "      <td>%</td>\n",
       "      <td>2.5</td>\n",
       "      <td>Valeur estimée</td>\n",
       "    </tr>\n",
       "    <tr>\n",
       "      <th>38</th>\n",
       "      <td>Bélarus</td>\n",
       "      <td>2016-2018</td>\n",
       "      <td>%</td>\n",
       "      <td>2.5</td>\n",
       "      <td>Valeur estimée</td>\n",
       "    </tr>\n",
       "    <tr>\n",
       "      <th>43</th>\n",
       "      <td>Belgique</td>\n",
       "      <td>2016-2018</td>\n",
       "      <td>%</td>\n",
       "      <td>2.5</td>\n",
       "      <td>Valeur estimée</td>\n",
       "    </tr>\n",
       "  </tbody>\n",
       "</table>\n",
       "</div>"
      ],
      "text/plain": [
       "           Zone      Année Unité  Valeur Description du Symbole\n",
       "13    Australie  2016-2018     %     2.5         Valeur estimée\n",
       "18     Autriche  2016-2018     %     2.5         Valeur estimée\n",
       "23  Azerbaïdjan  2016-2018     %     2.5         Valeur estimée\n",
       "38      Bélarus  2016-2018     %     2.5         Valeur estimée\n",
       "43     Belgique  2016-2018     %     2.5         Valeur estimée"
      ]
     },
     "execution_count": 32,
     "metadata": {},
     "output_type": "execute_result"
    }
   ],
   "source": [
    "# preparation du fichier fao_stat\n",
    "\n",
    "fao_stat= fao_stat.drop(['Domaine', 'Code Domaine','Code zone (M49)', 'Code Élément','Élément','Code Produit', 'Code année', 'Note' ,'Symbole','Produit'], axis=1)\n",
    "fao_stat.isna()\n",
    "fao_stat= fao_stat.dropna(axis=0)\n",
    "fao_stat['Valeur'] = fao_stat['Valeur'].astype(float)\n",
    "fao_stat = fao_stat[fao_stat['Année']=='2016-2018']\n",
    "fao_stat.head()"
   ]
  },
  {
   "cell_type": "code",
   "execution_count": 33,
   "metadata": {},
   "outputs": [
    {
     "data": {
      "text/html": [
       "<div>\n",
       "<style scoped>\n",
       "    .dataframe tbody tr th:only-of-type {\n",
       "        vertical-align: middle;\n",
       "    }\n",
       "\n",
       "    .dataframe tbody tr th {\n",
       "        vertical-align: top;\n",
       "    }\n",
       "\n",
       "    .dataframe thead th {\n",
       "        text-align: right;\n",
       "    }\n",
       "</style>\n",
       "<table border=\"1\" class=\"dataframe\">\n",
       "  <thead>\n",
       "    <tr style=\"text-align: right;\">\n",
       "      <th></th>\n",
       "      <th>Zone</th>\n",
       "      <th>Année</th>\n",
       "      <th>Population</th>\n",
       "    </tr>\n",
       "  </thead>\n",
       "  <tbody>\n",
       "    <tr>\n",
       "      <th>4</th>\n",
       "      <td>Afghanistan</td>\n",
       "      <td>2017</td>\n",
       "      <td>36296.113</td>\n",
       "    </tr>\n",
       "    <tr>\n",
       "      <th>10</th>\n",
       "      <td>Afrique du Sud</td>\n",
       "      <td>2017</td>\n",
       "      <td>57009.756</td>\n",
       "    </tr>\n",
       "    <tr>\n",
       "      <th>16</th>\n",
       "      <td>Albanie</td>\n",
       "      <td>2017</td>\n",
       "      <td>2884.169</td>\n",
       "    </tr>\n",
       "    <tr>\n",
       "      <th>22</th>\n",
       "      <td>Algérie</td>\n",
       "      <td>2017</td>\n",
       "      <td>41389.189</td>\n",
       "    </tr>\n",
       "    <tr>\n",
       "      <th>28</th>\n",
       "      <td>Allemagne</td>\n",
       "      <td>2017</td>\n",
       "      <td>82658.409</td>\n",
       "    </tr>\n",
       "  </tbody>\n",
       "</table>\n",
       "</div>"
      ],
      "text/plain": [
       "              Zone  Année  Population\n",
       "4      Afghanistan   2017   36296.113\n",
       "10  Afrique du Sud   2017   57009.756\n",
       "16         Albanie   2017    2884.169\n",
       "22         Algérie   2017   41389.189\n",
       "28       Allemagne   2017   82658.409"
      ]
     },
     "execution_count": 33,
     "metadata": {},
     "output_type": "execute_result"
    }
   ],
   "source": [
    "# preparation du fichier population\n",
    "\n",
    "pop.drop(pop.loc[pop['Année']!=2017].index, inplace=True)\n",
    "pop.rename(columns={'Valeur':'Population'},inplace=True )\n",
    "pop.head()"
   ]
  },
  {
   "cell_type": "code",
   "execution_count": 34,
   "metadata": {},
   "outputs": [],
   "source": [
    "# preparation du fichier sous nutrition\n",
    "\n",
    "new_lack = lack.copy()\n",
    "new_lack = new_lack[new_lack['Année']=='2016-2018']\n"
   ]
  },
  {
   "cell_type": "code",
   "execution_count": 35,
   "metadata": {},
   "outputs": [
    {
     "data": {
      "text/html": [
       "<div>\n",
       "<style scoped>\n",
       "    .dataframe tbody tr th:only-of-type {\n",
       "        vertical-align: middle;\n",
       "    }\n",
       "\n",
       "    .dataframe tbody tr th {\n",
       "        vertical-align: top;\n",
       "    }\n",
       "\n",
       "    .dataframe thead th {\n",
       "        text-align: right;\n",
       "    }\n",
       "</style>\n",
       "<table border=\"1\" class=\"dataframe\">\n",
       "  <thead>\n",
       "    <tr style=\"text-align: right;\">\n",
       "      <th></th>\n",
       "      <th>Zone</th>\n",
       "      <th>Valeur</th>\n",
       "      <th>Description du Symbole</th>\n",
       "      <th>Année_y</th>\n",
       "      <th>Population</th>\n",
       "      <th>Valeur1</th>\n",
       "    </tr>\n",
       "  </thead>\n",
       "  <tbody>\n",
       "    <tr>\n",
       "      <th>0</th>\n",
       "      <td>Australie</td>\n",
       "      <td>2.5</td>\n",
       "      <td>Valeur estimée</td>\n",
       "      <td>2017</td>\n",
       "      <td>24584.620</td>\n",
       "      <td>0.6</td>\n",
       "    </tr>\n",
       "    <tr>\n",
       "      <th>1</th>\n",
       "      <td>Autriche</td>\n",
       "      <td>2.5</td>\n",
       "      <td>Valeur estimée</td>\n",
       "      <td>2017</td>\n",
       "      <td>8819.901</td>\n",
       "      <td>0.2</td>\n",
       "    </tr>\n",
       "    <tr>\n",
       "      <th>2</th>\n",
       "      <td>Azerbaïdjan</td>\n",
       "      <td>2.5</td>\n",
       "      <td>Valeur estimée</td>\n",
       "      <td>2017</td>\n",
       "      <td>9845.320</td>\n",
       "      <td>0.2</td>\n",
       "    </tr>\n",
       "    <tr>\n",
       "      <th>3</th>\n",
       "      <td>Bélarus</td>\n",
       "      <td>2.5</td>\n",
       "      <td>Valeur estimée</td>\n",
       "      <td>2017</td>\n",
       "      <td>9450.231</td>\n",
       "      <td>0.2</td>\n",
       "    </tr>\n",
       "    <tr>\n",
       "      <th>4</th>\n",
       "      <td>Belgique</td>\n",
       "      <td>2.5</td>\n",
       "      <td>Valeur estimée</td>\n",
       "      <td>2017</td>\n",
       "      <td>11419.748</td>\n",
       "      <td>0.3</td>\n",
       "    </tr>\n",
       "  </tbody>\n",
       "</table>\n",
       "</div>"
      ],
      "text/plain": [
       "          Zone  Valeur Description du Symbole  Année_y  Population  Valeur1\n",
       "0    Australie     2.5         Valeur estimée     2017   24584.620      0.6\n",
       "1     Autriche     2.5         Valeur estimée     2017    8819.901      0.2\n",
       "2  Azerbaïdjan     2.5         Valeur estimée     2017    9845.320      0.2\n",
       "3      Bélarus     2.5         Valeur estimée     2017    9450.231      0.2\n",
       "4     Belgique     2.5         Valeur estimée     2017   11419.748      0.3"
      ]
     },
     "execution_count": 35,
     "metadata": {},
     "output_type": "execute_result"
    }
   ],
   "source": [
    "# fusion des fichiers fao_stats et population, conversion du nombre d'habitants \"Valeur\" en nombre reel, exprimé en millions\n",
    "\n",
    "new = pd.merge(fao_stat, pop, on=[\"Zone\"], how='left')\n",
    "#display(new)\n",
    "new[\"Valeur1\"]= ((new.Valeur * new.Population / 100) * 0.001)\n",
    "new[\"Valeur1\"] = new[\"Valeur1\"].round(decimals=1)\n",
    "new = new.drop( [\"Année_x\", \"Unité\"], axis=1)\n",
    "new.head()"
   ]
  },
  {
   "cell_type": "code",
   "execution_count": 36,
   "metadata": {},
   "outputs": [
    {
     "data": {
      "text/html": [
       "<div>\n",
       "<style scoped>\n",
       "    .dataframe tbody tr th:only-of-type {\n",
       "        vertical-align: middle;\n",
       "    }\n",
       "\n",
       "    .dataframe tbody tr th {\n",
       "        vertical-align: top;\n",
       "    }\n",
       "\n",
       "    .dataframe thead th {\n",
       "        text-align: right;\n",
       "    }\n",
       "</style>\n",
       "<table border=\"1\" class=\"dataframe\">\n",
       "  <thead>\n",
       "    <tr style=\"text-align: right;\">\n",
       "      <th></th>\n",
       "      <th>Zone</th>\n",
       "      <th>Année</th>\n",
       "      <th>Valeur_x</th>\n",
       "      <th>Description du Symbole</th>\n",
       "      <th>Population</th>\n",
       "    </tr>\n",
       "  </thead>\n",
       "  <tbody>\n",
       "    <tr>\n",
       "      <th>0</th>\n",
       "      <td>Afghanistan</td>\n",
       "      <td>2016-2018</td>\n",
       "      <td>10.5</td>\n",
       "      <td>NaN</td>\n",
       "      <td>NaN</td>\n",
       "    </tr>\n",
       "    <tr>\n",
       "      <th>1</th>\n",
       "      <td>Afrique du Sud</td>\n",
       "      <td>2016-2018</td>\n",
       "      <td>3.1</td>\n",
       "      <td>NaN</td>\n",
       "      <td>NaN</td>\n",
       "    </tr>\n",
       "    <tr>\n",
       "      <th>2</th>\n",
       "      <td>Albanie</td>\n",
       "      <td>2016-2018</td>\n",
       "      <td>0.1</td>\n",
       "      <td>NaN</td>\n",
       "      <td>NaN</td>\n",
       "    </tr>\n",
       "    <tr>\n",
       "      <th>3</th>\n",
       "      <td>Algérie</td>\n",
       "      <td>2016-2018</td>\n",
       "      <td>1.3</td>\n",
       "      <td>NaN</td>\n",
       "      <td>NaN</td>\n",
       "    </tr>\n",
       "    <tr>\n",
       "      <th>4</th>\n",
       "      <td>Allemagne</td>\n",
       "      <td>2016-2018</td>\n",
       "      <td>NaN</td>\n",
       "      <td>NaN</td>\n",
       "      <td>NaN</td>\n",
       "    </tr>\n",
       "  </tbody>\n",
       "</table>\n",
       "</div>"
      ],
      "text/plain": [
       "             Zone      Année Valeur_x Description du Symbole  Population\n",
       "0     Afghanistan  2016-2018     10.5                    NaN         NaN\n",
       "1  Afrique du Sud  2016-2018      3.1                    NaN         NaN\n",
       "2         Albanie  2016-2018      0.1                    NaN         NaN\n",
       "3         Algérie  2016-2018      1.3                    NaN         NaN\n",
       "4       Allemagne  2016-2018      NaN                    NaN         NaN"
      ]
     },
     "execution_count": 36,
     "metadata": {},
     "output_type": "execute_result"
    }
   ],
   "source": [
    "# Fusion entre le fichier des données de sous nutrition, et du nouveau fichier possedant les valeurs manquantes\n",
    "\n",
    "sous_nutrition_2 = pd.merge(new_lack, new, on='Zone', how=\"left\")\n",
    "\n",
    "sous_nutrition_2['Valeur_x'].fillna(sous_nutrition_2['Valeur1'],inplace=True)\n",
    "#display(sous_nutrition_2[:15])\n",
    "sous_nutrition_2 = sous_nutrition_2.drop(['Année_y', \"Valeur1\", 'Valeur_y'], axis=1)\n",
    "sous_nutrition_2.head()\n"
   ]
  },
  {
   "cell_type": "code",
   "execution_count": 37,
   "metadata": {},
   "outputs": [
    {
     "data": {
      "text/html": [
       "<div>\n",
       "<style scoped>\n",
       "    .dataframe tbody tr th:only-of-type {\n",
       "        vertical-align: middle;\n",
       "    }\n",
       "\n",
       "    .dataframe tbody tr th {\n",
       "        vertical-align: top;\n",
       "    }\n",
       "\n",
       "    .dataframe thead th {\n",
       "        text-align: right;\n",
       "    }\n",
       "</style>\n",
       "<table border=\"1\" class=\"dataframe\">\n",
       "  <thead>\n",
       "    <tr style=\"text-align: right;\">\n",
       "      <th></th>\n",
       "      <th>Zone</th>\n",
       "      <th>Année_x</th>\n",
       "      <th>Valeur_x</th>\n",
       "      <th>Description du Symbole</th>\n",
       "      <th>Population_y</th>\n",
       "    </tr>\n",
       "  </thead>\n",
       "  <tbody>\n",
       "    <tr>\n",
       "      <th>0</th>\n",
       "      <td>Afghanistan</td>\n",
       "      <td>2016-2018</td>\n",
       "      <td>10.5</td>\n",
       "      <td>NaN</td>\n",
       "      <td>36296.113</td>\n",
       "    </tr>\n",
       "    <tr>\n",
       "      <th>1</th>\n",
       "      <td>Afrique du Sud</td>\n",
       "      <td>2016-2018</td>\n",
       "      <td>3.1</td>\n",
       "      <td>NaN</td>\n",
       "      <td>57009.756</td>\n",
       "    </tr>\n",
       "    <tr>\n",
       "      <th>2</th>\n",
       "      <td>Albanie</td>\n",
       "      <td>2016-2018</td>\n",
       "      <td>0.1</td>\n",
       "      <td>NaN</td>\n",
       "      <td>2884.169</td>\n",
       "    </tr>\n",
       "    <tr>\n",
       "      <th>3</th>\n",
       "      <td>Algérie</td>\n",
       "      <td>2016-2018</td>\n",
       "      <td>1.3</td>\n",
       "      <td>NaN</td>\n",
       "      <td>41389.189</td>\n",
       "    </tr>\n",
       "    <tr>\n",
       "      <th>6</th>\n",
       "      <td>Angola</td>\n",
       "      <td>2016-2018</td>\n",
       "      <td>5.8</td>\n",
       "      <td>NaN</td>\n",
       "      <td>29816.766</td>\n",
       "    </tr>\n",
       "  </tbody>\n",
       "</table>\n",
       "</div>"
      ],
      "text/plain": [
       "             Zone    Année_x  Valeur_x Description du Symbole  Population_y\n",
       "0     Afghanistan  2016-2018      10.5                    NaN     36296.113\n",
       "1  Afrique du Sud  2016-2018       3.1                    NaN     57009.756\n",
       "2         Albanie  2016-2018       0.1                    NaN      2884.169\n",
       "3         Algérie  2016-2018       1.3                    NaN     41389.189\n",
       "6          Angola  2016-2018       5.8                    NaN     29816.766"
      ]
     },
     "execution_count": 37,
     "metadata": {},
     "output_type": "execute_result"
    }
   ],
   "source": [
    "# Fusion entre le fichier de sous nutrition et le fichier de population\n",
    "sous_nutrition_2 = pd.merge(sous_nutrition_2, pop, on='Zone', how='left')\n",
    "sous_nutrition_2 = sous_nutrition_2.dropna(axis=0, thresh=5)\n",
    "sous_nutrition_2.drop([\"Population_x\",\"Année_y\"],axis=1, inplace=True)\n",
    "sous_nutrition_2['Valeur_x'] = sous_nutrition_2['Valeur_x'].replace(\"<0.1\",\"0.1\")\n",
    "sous_nutrition_2['Valeur_x'] = sous_nutrition_2['Valeur_x'].astype(float)\n",
    "sous_nutrition_2.head()"
   ]
  },
  {
   "cell_type": "markdown",
   "metadata": {},
   "source": [
    "# 2. Annalyse generale"
   ]
  },
  {
   "cell_type": "markdown",
   "metadata": {},
   "source": [
    "## 2.1 proportion de personnes en état de sous-nutrition "
   ]
  },
  {
   "cell_type": "code",
   "execution_count": 38,
   "metadata": {},
   "outputs": [
    {
     "name": "stdout",
     "output_type": "stream",
     "text": [
      "9.1\n"
     ]
    },
    {
     "data": {
      "text/html": [
       "<div>\n",
       "<style scoped>\n",
       "    .dataframe tbody tr th:only-of-type {\n",
       "        vertical-align: middle;\n",
       "    }\n",
       "\n",
       "    .dataframe tbody tr th {\n",
       "        vertical-align: top;\n",
       "    }\n",
       "\n",
       "    .dataframe thead th {\n",
       "        text-align: right;\n",
       "    }\n",
       "</style>\n",
       "<table border=\"1\" class=\"dataframe\">\n",
       "  <thead>\n",
       "    <tr style=\"text-align: right;\">\n",
       "      <th></th>\n",
       "      <th>Zone</th>\n",
       "      <th>Année_x</th>\n",
       "      <th>Valeur_x</th>\n",
       "      <th>Description du Symbole</th>\n",
       "      <th>Population_y</th>\n",
       "    </tr>\n",
       "  </thead>\n",
       "  <tbody>\n",
       "    <tr>\n",
       "      <th>0</th>\n",
       "      <td>Afghanistan</td>\n",
       "      <td>2016-2018</td>\n",
       "      <td>10.5</td>\n",
       "      <td>NaN</td>\n",
       "      <td>36296.113</td>\n",
       "    </tr>\n",
       "    <tr>\n",
       "      <th>1</th>\n",
       "      <td>Afrique du Sud</td>\n",
       "      <td>2016-2018</td>\n",
       "      <td>3.1</td>\n",
       "      <td>NaN</td>\n",
       "      <td>57009.756</td>\n",
       "    </tr>\n",
       "    <tr>\n",
       "      <th>2</th>\n",
       "      <td>Albanie</td>\n",
       "      <td>2016-2018</td>\n",
       "      <td>0.1</td>\n",
       "      <td>NaN</td>\n",
       "      <td>2884.169</td>\n",
       "    </tr>\n",
       "    <tr>\n",
       "      <th>3</th>\n",
       "      <td>Algérie</td>\n",
       "      <td>2016-2018</td>\n",
       "      <td>1.3</td>\n",
       "      <td>NaN</td>\n",
       "      <td>41389.189</td>\n",
       "    </tr>\n",
       "    <tr>\n",
       "      <th>6</th>\n",
       "      <td>Angola</td>\n",
       "      <td>2016-2018</td>\n",
       "      <td>5.8</td>\n",
       "      <td>NaN</td>\n",
       "      <td>29816.766</td>\n",
       "    </tr>\n",
       "  </tbody>\n",
       "</table>\n",
       "</div>"
      ],
      "text/plain": [
       "             Zone    Année_x  Valeur_x Description du Symbole  Population_y\n",
       "0     Afghanistan  2016-2018      10.5                    NaN     36296.113\n",
       "1  Afrique du Sud  2016-2018       3.1                    NaN     57009.756\n",
       "2         Albanie  2016-2018       0.1                    NaN      2884.169\n",
       "3         Algérie  2016-2018       1.3                    NaN     41389.189\n",
       "6          Angola  2016-2018       5.8                    NaN     29816.766"
      ]
     },
     "execution_count": 38,
     "metadata": {},
     "output_type": "execute_result"
    }
   ],
   "source": [
    "\n",
    "pop_monde = sous_nutrition_2['Population_y'].sum() # Calcule du nombre d'habitant dans le monde\n",
    "sous_nut_monde = sous_nutrition_2['Valeur_x'].sum() # Calcule du nombre de personne en etat de sous nutrition\n",
    "prop_sous_nut_monde = round((sous_nut_monde/pop_monde) * 100000, 1) \n",
    "print(prop_sous_nut_monde)\n",
    "sous_nutrition_2.head()\n"
   ]
  },
  {
   "cell_type": "code",
   "execution_count": 39,
   "metadata": {},
   "outputs": [
    {
     "data": {
      "image/png": "[encoded data removed]",
      "text/plain": [
       "<Figure size 640x480 with 1 Axes>"
      ]
     },
     "metadata": {},
     "output_type": "display_data"
    }
   ],
   "source": [
    "#Representation de la proportion de la sous nutrition dans le monde \n",
    "reste = 100 - prop_sous_nut_monde\n",
    "data = [reste, prop_sous_nut_monde]\n",
    "labels=[\"Reste\", \"Personne en etat de sous nutrition\"]\n",
    "plt.pie(data, labels=labels ,autopct='%0.1f%%')\n",
    "plt.show()"
   ]
  },
  {
   "cell_type": "markdown",
   "metadata": {},
   "source": [
    "## 2.2 nombre théorique de personnes qui pourraient être nourries"
   ]
  },
  {
   "cell_type": "code",
   "execution_count": 40,
   "metadata": {},
   "outputs": [],
   "source": [
    "\n",
    "#Preparation du fichier de disponibilite alimentaire \n",
    "\n",
    "new_dispo = pd.read_csv('./sources/dispo_alimentaire.csv')\n",
    "\n",
    "new_dispo = new_dispo.groupby('Zone').sum(['Disponibilité alimentaire (Kcal/personne/jour)']) #calcul du nbr de kcal disponible par pays \n",
    "new_dispo = pd.merge(new_dispo, pop, on=['Zone'], how=\"left\")\n",
    "new_dispo.drop(new_dispo.loc[new_dispo['Année']!=2017.0].index, inplace=True)\n",
    "\n",
    "\n"
   ]
  },
  {
   "cell_type": "code",
   "execution_count": 41,
   "metadata": {},
   "outputs": [
    {
     "name": "stdout",
     "output_type": "stream",
     "text": [
      "8367594 personnes pourraient theoriquement etre nourris\n",
      "ce qui represente 115 % de la population mondiale\n"
     ]
    }
   ],
   "source": [
    "new_dispo[\"Kcal/pays/jour\"]= (new_dispo['Disponibilité alimentaire (Kcal/personne/jour)'] * new_dispo[\"Population\"])\n",
    "Kcal_monde = new_dispo[\"Kcal/pays/jour\"].sum()\n",
    "pop_monde = new_dispo['Population'].sum()\n",
    "fed_humans = (Kcal_monde / 2500)\n",
    "print(round(fed_humans), \"personnes pourraient theoriquement etre nourris\")\n",
    "fed_humans = (fed_humans / pop_monde )* 100\n",
    "\n",
    "print(\"ce qui represente\",round(fed_humans),\"% de la population mondiale\")"
   ]
  },
  {
   "cell_type": "markdown",
   "metadata": {},
   "source": [
    "## 2.3 nombre théorique de personnes qui pourraient être nourries a partir de la disponibilité alimentaire des produits végétaux "
   ]
  },
  {
   "cell_type": "code",
   "execution_count": 42,
   "metadata": {},
   "outputs": [
    {
     "data": {
      "text/html": [
       "<div>\n",
       "<style scoped>\n",
       "    .dataframe tbody tr th:only-of-type {\n",
       "        vertical-align: middle;\n",
       "    }\n",
       "\n",
       "    .dataframe tbody tr th {\n",
       "        vertical-align: top;\n",
       "    }\n",
       "\n",
       "    .dataframe thead th {\n",
       "        text-align: right;\n",
       "    }\n",
       "</style>\n",
       "<table border=\"1\" class=\"dataframe\">\n",
       "  <thead>\n",
       "    <tr style=\"text-align: right;\">\n",
       "      <th></th>\n",
       "      <th>Zone</th>\n",
       "      <th>Aliments pour animaux</th>\n",
       "      <th>Autres Utilisations</th>\n",
       "      <th>Disponibilité alimentaire (Kcal/personne/jour)</th>\n",
       "      <th>Disponibilité alimentaire en quantité (kg/personne/an)</th>\n",
       "      <th>Disponibilité de matière grasse en quantité (g/personne/jour)</th>\n",
       "      <th>Disponibilité de protéines en quantité (g/personne/jour)</th>\n",
       "      <th>Disponibilité intérieure</th>\n",
       "      <th>Exportations - Quantité</th>\n",
       "      <th>Importations - Quantité</th>\n",
       "      <th>Nourriture</th>\n",
       "      <th>Pertes</th>\n",
       "      <th>Production</th>\n",
       "      <th>Semences</th>\n",
       "      <th>Traitement</th>\n",
       "      <th>Variation de stock</th>\n",
       "      <th>Année</th>\n",
       "      <th>Population</th>\n",
       "    </tr>\n",
       "  </thead>\n",
       "  <tbody>\n",
       "    <tr>\n",
       "      <th>0</th>\n",
       "      <td>Afghanistan</td>\n",
       "      <td>645.0</td>\n",
       "      <td>415.0</td>\n",
       "      <td>1871.0</td>\n",
       "      <td>271.49</td>\n",
       "      <td>18.27</td>\n",
       "      <td>46.05</td>\n",
       "      <td>10884.0</td>\n",
       "      <td>278.0</td>\n",
       "      <td>2638.0</td>\n",
       "      <td>8293.0</td>\n",
       "      <td>1072.0</td>\n",
       "      <td>8891.0</td>\n",
       "      <td>393.0</td>\n",
       "      <td>63.0</td>\n",
       "      <td>-368.0</td>\n",
       "      <td>2017.0</td>\n",
       "      <td>36296.113</td>\n",
       "    </tr>\n",
       "    <tr>\n",
       "      <th>1</th>\n",
       "      <td>Afrique du Sud</td>\n",
       "      <td>5122.0</td>\n",
       "      <td>761.0</td>\n",
       "      <td>2533.0</td>\n",
       "      <td>425.17</td>\n",
       "      <td>48.92</td>\n",
       "      <td>48.94</td>\n",
       "      <td>53439.0</td>\n",
       "      <td>10586.0</td>\n",
       "      <td>6468.0</td>\n",
       "      <td>22441.0</td>\n",
       "      <td>2110.0</td>\n",
       "      <td>55649.0</td>\n",
       "      <td>186.0</td>\n",
       "      <td>22819.0</td>\n",
       "      <td>1912.0</td>\n",
       "      <td>2017.0</td>\n",
       "      <td>57009.756</td>\n",
       "    </tr>\n",
       "    <tr>\n",
       "      <th>2</th>\n",
       "      <td>Albanie</td>\n",
       "      <td>559.0</td>\n",
       "      <td>172.0</td>\n",
       "      <td>2203.0</td>\n",
       "      <td>706.49</td>\n",
       "      <td>38.76</td>\n",
       "      <td>51.96</td>\n",
       "      <td>3326.0</td>\n",
       "      <td>84.0</td>\n",
       "      <td>846.0</td>\n",
       "      <td>2241.0</td>\n",
       "      <td>182.0</td>\n",
       "      <td>2609.0</td>\n",
       "      <td>55.0</td>\n",
       "      <td>113.0</td>\n",
       "      <td>-45.0</td>\n",
       "      <td>2017.0</td>\n",
       "      <td>2884.169</td>\n",
       "    </tr>\n",
       "    <tr>\n",
       "      <th>3</th>\n",
       "      <td>Algérie</td>\n",
       "      <td>4352.0</td>\n",
       "      <td>1706.0</td>\n",
       "      <td>2915.0</td>\n",
       "      <td>632.35</td>\n",
       "      <td>54.12</td>\n",
       "      <td>66.94</td>\n",
       "      <td>35510.0</td>\n",
       "      <td>649.0</td>\n",
       "      <td>14672.0</td>\n",
       "      <td>24797.0</td>\n",
       "      <td>3587.0</td>\n",
       "      <td>21964.0</td>\n",
       "      <td>428.0</td>\n",
       "      <td>637.0</td>\n",
       "      <td>-479.0</td>\n",
       "      <td>2017.0</td>\n",
       "      <td>41389.189</td>\n",
       "    </tr>\n",
       "    <tr>\n",
       "      <th>4</th>\n",
       "      <td>Allemagne</td>\n",
       "      <td>28122.0</td>\n",
       "      <td>6842.0</td>\n",
       "      <td>2461.0</td>\n",
       "      <td>568.82</td>\n",
       "      <td>63.63</td>\n",
       "      <td>39.90</td>\n",
       "      <td>126866.0</td>\n",
       "      <td>34454.0</td>\n",
       "      <td>50642.0</td>\n",
       "      <td>47079.0</td>\n",
       "      <td>3717.0</td>\n",
       "      <td>110926.0</td>\n",
       "      <td>1475.0</td>\n",
       "      <td>39686.0</td>\n",
       "      <td>-247.0</td>\n",
       "      <td>2017.0</td>\n",
       "      <td>82658.409</td>\n",
       "    </tr>\n",
       "  </tbody>\n",
       "</table>\n",
       "</div>"
      ],
      "text/plain": [
       "             Zone  Aliments pour animaux  Autres Utilisations  \\\n",
       "0     Afghanistan                  645.0                415.0   \n",
       "1  Afrique du Sud                 5122.0                761.0   \n",
       "2         Albanie                  559.0                172.0   \n",
       "3         Algérie                 4352.0               1706.0   \n",
       "4       Allemagne                28122.0               6842.0   \n",
       "\n",
       "   Disponibilité alimentaire (Kcal/personne/jour)  \\\n",
       "0                                          1871.0   \n",
       "1                                          2533.0   \n",
       "2                                          2203.0   \n",
       "3                                          2915.0   \n",
       "4                                          2461.0   \n",
       "\n",
       "   Disponibilité alimentaire en quantité (kg/personne/an)  \\\n",
       "0                                             271.49        \n",
       "1                                             425.17        \n",
       "2                                             706.49        \n",
       "3                                             632.35        \n",
       "4                                             568.82        \n",
       "\n",
       "   Disponibilité de matière grasse en quantité (g/personne/jour)  \\\n",
       "0                                              18.27               \n",
       "1                                              48.92               \n",
       "2                                              38.76               \n",
       "3                                              54.12               \n",
       "4                                              63.63               \n",
       "\n",
       "   Disponibilité de protéines en quantité (g/personne/jour)  \\\n",
       "0                                              46.05          \n",
       "1                                              48.94          \n",
       "2                                              51.96          \n",
       "3                                              66.94          \n",
       "4                                              39.90          \n",
       "\n",
       "   Disponibilité intérieure  Exportations - Quantité  Importations - Quantité  \\\n",
       "0                   10884.0                    278.0                   2638.0   \n",
       "1                   53439.0                  10586.0                   6468.0   \n",
       "2                    3326.0                     84.0                    846.0   \n",
       "3                   35510.0                    649.0                  14672.0   \n",
       "4                  126866.0                  34454.0                  50642.0   \n",
       "\n",
       "   Nourriture  Pertes  Production  Semences  Traitement  Variation de stock  \\\n",
       "0      8293.0  1072.0      8891.0     393.0        63.0              -368.0   \n",
       "1     22441.0  2110.0     55649.0     186.0     22819.0              1912.0   \n",
       "2      2241.0   182.0      2609.0      55.0       113.0               -45.0   \n",
       "3     24797.0  3587.0     21964.0     428.0       637.0              -479.0   \n",
       "4     47079.0  3717.0    110926.0    1475.0     39686.0              -247.0   \n",
       "\n",
       "    Année  Population  \n",
       "0  2017.0   36296.113  \n",
       "1  2017.0   57009.756  \n",
       "2  2017.0    2884.169  \n",
       "3  2017.0   41389.189  \n",
       "4  2017.0   82658.409  "
      ]
     },
     "execution_count": 42,
     "metadata": {},
     "output_type": "execute_result"
    }
   ],
   "source": [
    "vegetal = pd.read_csv('./sources/dispo_alimentaire.csv')\n",
    "\n",
    "vegetal = vegetal.loc[vegetal['Origine']== 'vegetale']\n",
    "vegetal = vegetal.groupby('Zone').sum(['Disponibilité alimentaire (Kcal/personne/jour)'])\n",
    "vegetal = pd.merge(vegetal, pop, on=['Zone'], how=\"left\")\n",
    "vegetal.drop(vegetal.loc[vegetal['Année']!=2017.0].index, inplace=True)\n",
    "\n",
    "vegetal.head()"
   ]
  },
  {
   "cell_type": "code",
   "execution_count": 43,
   "metadata": {},
   "outputs": [
    {
     "name": "stdout",
     "output_type": "stream",
     "text": [
      "On pourrait theoriquement nourrir 95 % de la population mondiale juste avec la disponibilitee en vegetaux.\n"
     ]
    }
   ],
   "source": [
    "vegetal[\"Kcal/pays/jour\"]= (vegetal['Disponibilité alimentaire (Kcal/personne/jour)']* vegetal[\"Population\"])\n",
    "calorie_jour = vegetal[\"Kcal/pays/jour\"].sum()\n",
    "personne_nourris = calorie_jour / 2500\n",
    "prop_personne_nourris = round((personne_nourris/ pop_monde) *100)\n",
    "\n",
    "print(\"On pourrait theoriquement nourrir\",prop_personne_nourris,\"% de la population mondiale juste avec la disponibilitee en vegetaux.\")"
   ]
  },
  {
   "cell_type": "markdown",
   "metadata": {},
   "source": [
    "## 2.3 utilisation de la disponibilité intérieure"
   ]
  },
  {
   "cell_type": "code",
   "execution_count": 44,
   "metadata": {},
   "outputs": [
    {
     "name": "stdout",
     "output_type": "stream",
     "text": [
      "La part de cereales pour les animaux est de 13.2 %.\n",
      "La part de cereales pour les humains est de 49.5 %.\n",
      "4.6 % des cereales sont perdus.\n"
     ]
    }
   ],
   "source": [
    "dispo_sum = dispo['Disponibilité intérieure'].sum()\n",
    "animaux = dispo['Aliments pour animaux'].sum()\n",
    "animaux = animaux * 100 / dispo_sum\n",
    "pertes = dispo['Pertes'].sum()\n",
    "pertes = pertes * 100 / dispo_sum\n",
    "humains = dispo['Nourriture'].sum()\n",
    "humains = humains * 100 / dispo_sum\n",
    "\n",
    "print(\"La part de cereales pour les animaux est de\", round(animaux,1), \"%.\")\n",
    "print(\"La part de cereales pour les humains est de\", round(humains, 1), \"%.\" )\n",
    "print(round(pertes,1),\"% des cereales sont perdus.\")\n"
   ]
  },
  {
   "cell_type": "code",
   "execution_count": 45,
   "metadata": {},
   "outputs": [
    {
     "data": {
      "image/png": "[encoded data removed]",
      "text/plain": [
       "<Figure size 640x480 with 1 Axes>"
      ]
     },
     "metadata": {},
     "output_type": "display_data"
    }
   ],
   "source": [
    "data = [animaux, humains, pertes, 100 -(animaux+ humains+ pertes)]\n",
    "colors = sns.color_palette('pastel')\n",
    "labels = ['Part pour les animaux', 'Part pour les humains', 'Pertes', 'Autre utilisations']\n",
    "plt.pie(data, colors = colors, labels=labels,  autopct = '%0.1f%%')\n",
    "plt.show()\n"
   ]
  },
  {
   "cell_type": "markdown",
   "metadata": {},
   "source": [
    "# 3. Questions specifiques"
   ]
  },
  {
   "cell_type": "markdown",
   "metadata": {},
   "source": [
    "## 3.1  lien logique entre l’ensemble des 10 variables de l'utilisation de la disponibilité intérieure"
   ]
  },
  {
   "cell_type": "markdown",
   "metadata": {},
   "source": [
    "disponibilité interieure = \n",
    "importation + production - exportations + variation de stock = \n",
    "nourriture + pertes + semences + aliments pour animaux + autre utilisations + traitement"
   ]
  },
  {
   "cell_type": "markdown",
   "metadata": {},
   "source": [
    "## 3.2 utilisation des céréales"
   ]
  },
  {
   "cell_type": "code",
   "execution_count": 46,
   "metadata": {},
   "outputs": [
    {
     "name": "stdout",
     "output_type": "stream",
     "text": [
      "42.8 % des cereales sont utilisees pour la nourriture\n",
      " 36.3 % des cereales sont utilisees pour la nourriture animal\n"
     ]
    }
   ],
   "source": [
    "#On determine la liste des cereales\n",
    "cereal = ['Avoine','Blé','Céréales, Autres','Maïs','Miel','Millet',\n",
    "'Orge','Riz (Eq Blanchi)','Seigle','Sorgho', \"Alpiste\",\"Triticale\",\"Céréales élangées\",\n",
    "\"Fonio\",\"Quinoa\",\"Riz, paddy\",\"Sarrasin, blé noir\"]\n",
    "\n",
    "dispo_cereal = dispo[dispo['Produit'].isin(cereal)] # On ne garde que le lignes qui correspondent aux cereales\n",
    "\n",
    "animals = dispo_cereal['Aliments pour animaux'].sum()\n",
    "nut = dispo_cereal['Nourriture'].sum()\n",
    "disp = dispo_cereal['Disponibilité intérieure'].sum()\n",
    "nut = (nut / disp) * 100\n",
    "animals = (animals / disp) * 100\n",
    "\n",
    "print(round(nut,1), \"% des cereales sont utilisees pour la nourriture\\n\" , round(animals,1),\n",
    "\"% des cereales sont utilisees pour la nourriture animal\")\n",
    "\n"
   ]
  },
  {
   "cell_type": "markdown",
   "metadata": {},
   "source": [
    "## 3.3 utilisation du manioc par la Thaïlande"
   ]
  },
  {
   "cell_type": "code",
   "execution_count": 47,
   "metadata": {},
   "outputs": [
    {
     "data": {
      "text/html": [
       "<div>\n",
       "<style scoped>\n",
       "    .dataframe tbody tr th:only-of-type {\n",
       "        vertical-align: middle;\n",
       "    }\n",
       "\n",
       "    .dataframe tbody tr th {\n",
       "        vertical-align: top;\n",
       "    }\n",
       "\n",
       "    .dataframe thead th {\n",
       "        text-align: right;\n",
       "    }\n",
       "</style>\n",
       "<table border=\"1\" class=\"dataframe\">\n",
       "  <thead>\n",
       "    <tr style=\"text-align: right;\">\n",
       "      <th></th>\n",
       "      <th>Zone</th>\n",
       "      <th>Produit</th>\n",
       "      <th>Origine</th>\n",
       "      <th>Aliments pour animaux</th>\n",
       "      <th>Autres Utilisations</th>\n",
       "      <th>Disponibilité alimentaire (Kcal/personne/jour)</th>\n",
       "      <th>Disponibilité alimentaire en quantité (kg/personne/an)</th>\n",
       "      <th>Disponibilité de matière grasse en quantité (g/personne/jour)</th>\n",
       "      <th>Disponibilité de protéines en quantité (g/personne/jour)</th>\n",
       "      <th>Disponibilité intérieure</th>\n",
       "      <th>Exportations - Quantité</th>\n",
       "      <th>Importations - Quantité</th>\n",
       "      <th>Nourriture</th>\n",
       "      <th>Pertes</th>\n",
       "      <th>Production</th>\n",
       "      <th>Semences</th>\n",
       "      <th>Traitement</th>\n",
       "      <th>Variation de stock</th>\n",
       "    </tr>\n",
       "  </thead>\n",
       "  <tbody>\n",
       "    <tr>\n",
       "      <th>13809</th>\n",
       "      <td>Thaïlande</td>\n",
       "      <td>Manioc</td>\n",
       "      <td>vegetale</td>\n",
       "      <td>1800.0</td>\n",
       "      <td>2081.0</td>\n",
       "      <td>40.0</td>\n",
       "      <td>13.0</td>\n",
       "      <td>0.05</td>\n",
       "      <td>0.14</td>\n",
       "      <td>6264.0</td>\n",
       "      <td>25214.0</td>\n",
       "      <td>1250.0</td>\n",
       "      <td>871.0</td>\n",
       "      <td>1511.0</td>\n",
       "      <td>30228.0</td>\n",
       "      <td>NaN</td>\n",
       "      <td>0.0</td>\n",
       "      <td>0.0</td>\n",
       "    </tr>\n",
       "  </tbody>\n",
       "</table>\n",
       "</div>"
      ],
      "text/plain": [
       "            Zone Produit   Origine  Aliments pour animaux  \\\n",
       "13809  Thaïlande  Manioc  vegetale                 1800.0   \n",
       "\n",
       "       Autres Utilisations  Disponibilité alimentaire (Kcal/personne/jour)  \\\n",
       "13809               2081.0                                            40.0   \n",
       "\n",
       "       Disponibilité alimentaire en quantité (kg/personne/an)  \\\n",
       "13809                                               13.0        \n",
       "\n",
       "       Disponibilité de matière grasse en quantité (g/personne/jour)  \\\n",
       "13809                                               0.05               \n",
       "\n",
       "       Disponibilité de protéines en quantité (g/personne/jour)  \\\n",
       "13809                                               0.14          \n",
       "\n",
       "       Disponibilité intérieure  Exportations - Quantité  \\\n",
       "13809                    6264.0                  25214.0   \n",
       "\n",
       "       Importations - Quantité  Nourriture  Pertes  Production  Semences  \\\n",
       "13809                   1250.0       871.0  1511.0     30228.0       NaN   \n",
       "\n",
       "       Traitement  Variation de stock  \n",
       "13809         0.0                 0.0  "
      ]
     },
     "metadata": {},
     "output_type": "display_data"
    },
    {
     "name": "stdout",
     "output_type": "stream",
     "text": [
      "25214.0 30228.0\n"
     ]
    }
   ],
   "source": [
    "dispo_thai = dispo[dispo['Zone']=='Thaïlande']\n",
    "dispo_thai = dispo_thai[dispo_thai['Produit']=='Manioc']\n",
    "display(dispo_thai)\n",
    "export = dispo_thai['Exportations - Quantité'].sum()\n",
    "prod = dispo_thai['Production'].sum()\n",
    "print(export, prod)\n",
    "\n",
    "# exportation de plus de la moitie de produciton de manioc en thailande, avec un nombre de personnes en sous nutrition supérieur a 6 millions"
   ]
  },
  {
   "cell_type": "code",
   "execution_count": 48,
   "metadata": {},
   "outputs": [
    {
     "name": "stdout",
     "output_type": "stream",
     "text": [
      "La Thailande produit a elle seule  19.5 % du manioc importe dans le monde\n"
     ]
    }
   ],
   "source": [
    "dispo_manioc = dispo\n",
    "dispo_manioc.head()\n",
    "importation = dispo_manioc[\"Importations - Quantité\"].sum()\n",
    "propo =( export / importation) * 1000\n",
    "\n",
    "print(\"La Thailande produit a elle seule \",round(propo,1),\"% du manioc importe dans le monde\")"
   ]
  },
  {
   "cell_type": "markdown",
   "metadata": {},
   "source": [
    "# 4. annalyse approfondie"
   ]
  },
  {
   "cell_type": "markdown",
   "metadata": {},
   "source": [
    "## 4.1 pays dont la proportion de personnes sous-alimentées est la plus elevée en 2017"
   ]
  },
  {
   "cell_type": "code",
   "execution_count": 49,
   "metadata": {},
   "outputs": [
    {
     "data": {
      "text/html": [
       "<div>\n",
       "<style scoped>\n",
       "    .dataframe tbody tr th:only-of-type {\n",
       "        vertical-align: middle;\n",
       "    }\n",
       "\n",
       "    .dataframe tbody tr th {\n",
       "        vertical-align: top;\n",
       "    }\n",
       "\n",
       "    .dataframe thead th {\n",
       "        text-align: right;\n",
       "    }\n",
       "</style>\n",
       "<table border=\"1\" class=\"dataframe\">\n",
       "  <thead>\n",
       "    <tr style=\"text-align: right;\">\n",
       "      <th></th>\n",
       "      <th>Zone</th>\n",
       "      <th>Année_x</th>\n",
       "      <th>Valeur_x</th>\n",
       "      <th>Description du Symbole</th>\n",
       "      <th>Population_y</th>\n",
       "      <th>prop</th>\n",
       "    </tr>\n",
       "  </thead>\n",
       "  <tbody>\n",
       "    <tr>\n",
       "      <th>78</th>\n",
       "      <td>Haïti</td>\n",
       "      <td>2016-2018</td>\n",
       "      <td>5.3</td>\n",
       "      <td>NaN</td>\n",
       "      <td>10982.366</td>\n",
       "      <td>48.259182</td>\n",
       "    </tr>\n",
       "    <tr>\n",
       "      <th>157</th>\n",
       "      <td>République populaire démocratique de Corée</td>\n",
       "      <td>2016-2018</td>\n",
       "      <td>12.0</td>\n",
       "      <td>NaN</td>\n",
       "      <td>25429.825</td>\n",
       "      <td>47.188685</td>\n",
       "    </tr>\n",
       "    <tr>\n",
       "      <th>200</th>\n",
       "      <td>Yémen</td>\n",
       "      <td>2016-2018</td>\n",
       "      <td>13.0</td>\n",
       "      <td>Valeur estimée</td>\n",
       "      <td>27834.819</td>\n",
       "      <td>46.704094</td>\n",
       "    </tr>\n",
       "    <tr>\n",
       "      <th>151</th>\n",
       "      <td>République centrafricaine</td>\n",
       "      <td>2016-2018</td>\n",
       "      <td>2.1</td>\n",
       "      <td>Valeur estimée</td>\n",
       "      <td>4596.023</td>\n",
       "      <td>45.691677</td>\n",
       "    </tr>\n",
       "    <tr>\n",
       "      <th>108</th>\n",
       "      <td>Madagascar</td>\n",
       "      <td>2016-2018</td>\n",
       "      <td>10.5</td>\n",
       "      <td>NaN</td>\n",
       "      <td>25570.512</td>\n",
       "      <td>41.062924</td>\n",
       "    </tr>\n",
       "    <tr>\n",
       "      <th>103</th>\n",
       "      <td>Libéria</td>\n",
       "      <td>2016-2018</td>\n",
       "      <td>1.8</td>\n",
       "      <td>NaN</td>\n",
       "      <td>4702.226</td>\n",
       "      <td>38.279742</td>\n",
       "    </tr>\n",
       "    <tr>\n",
       "      <th>100</th>\n",
       "      <td>Lesotho</td>\n",
       "      <td>2016-2018</td>\n",
       "      <td>0.8</td>\n",
       "      <td>NaN</td>\n",
       "      <td>2091.534</td>\n",
       "      <td>38.249438</td>\n",
       "    </tr>\n",
       "    <tr>\n",
       "      <th>183</th>\n",
       "      <td>Tchad</td>\n",
       "      <td>2016-2018</td>\n",
       "      <td>5.7</td>\n",
       "      <td>NaN</td>\n",
       "      <td>15016.753</td>\n",
       "      <td>37.957606</td>\n",
       "    </tr>\n",
       "    <tr>\n",
       "      <th>154</th>\n",
       "      <td>République démocratique du Congo</td>\n",
       "      <td>2016-2018</td>\n",
       "      <td>29.6</td>\n",
       "      <td>Valeur estimée</td>\n",
       "      <td>81398.764</td>\n",
       "      <td>36.364189</td>\n",
       "    </tr>\n",
       "    <tr>\n",
       "      <th>161</th>\n",
       "      <td>Rwanda</td>\n",
       "      <td>2016-2018</td>\n",
       "      <td>4.2</td>\n",
       "      <td>NaN</td>\n",
       "      <td>11980.961</td>\n",
       "      <td>35.055619</td>\n",
       "    </tr>\n",
       "  </tbody>\n",
       "</table>\n",
       "</div>"
      ],
      "text/plain": [
       "                                           Zone    Année_x  Valeur_x  \\\n",
       "78                                        Haïti  2016-2018       5.3   \n",
       "157  République populaire démocratique de Corée  2016-2018      12.0   \n",
       "200                                       Yémen  2016-2018      13.0   \n",
       "151                   République centrafricaine  2016-2018       2.1   \n",
       "108                                  Madagascar  2016-2018      10.5   \n",
       "103                                     Libéria  2016-2018       1.8   \n",
       "100                                     Lesotho  2016-2018       0.8   \n",
       "183                                       Tchad  2016-2018       5.7   \n",
       "154            République démocratique du Congo  2016-2018      29.6   \n",
       "161                                      Rwanda  2016-2018       4.2   \n",
       "\n",
       "    Description du Symbole  Population_y       prop  \n",
       "78                     NaN     10982.366  48.259182  \n",
       "157                    NaN     25429.825  47.188685  \n",
       "200         Valeur estimée     27834.819  46.704094  \n",
       "151         Valeur estimée      4596.023  45.691677  \n",
       "108                    NaN     25570.512  41.062924  \n",
       "103                    NaN      4702.226  38.279742  \n",
       "100                    NaN      2091.534  38.249438  \n",
       "183                    NaN     15016.753  37.957606  \n",
       "154         Valeur estimée     81398.764  36.364189  \n",
       "161                    NaN     11980.961  35.055619  "
      ]
     },
     "metadata": {},
     "output_type": "display_data"
    }
   ],
   "source": [
    "sortd = sous_nutrition_2\n",
    "\n",
    "sortd['prop'] = (sortd['Valeur_x'] / (sortd['Population_y'] / 1000)) * 100\n",
    "sortd = sortd.sort_values(by = 'prop', ascending = False)\n",
    "sortd.drop(sortd.loc[sortd['Valeur_x']==0.1].index, inplace=True)\n",
    "\n",
    "display(sortd[:10])\n"
   ]
  },
  {
   "cell_type": "markdown",
   "metadata": {},
   "source": [
    "## 4.2 pays ayant le plus bénéficié d’aide depuis 2013"
   ]
  },
  {
   "cell_type": "code",
   "execution_count": 50,
   "metadata": {},
   "outputs": [
    {
     "data": {
      "text/html": [
       "<div>\n",
       "<style scoped>\n",
       "    .dataframe tbody tr th:only-of-type {\n",
       "        vertical-align: middle;\n",
       "    }\n",
       "\n",
       "    .dataframe tbody tr th {\n",
       "        vertical-align: top;\n",
       "    }\n",
       "\n",
       "    .dataframe thead th {\n",
       "        text-align: right;\n",
       "    }\n",
       "</style>\n",
       "<table border=\"1\" class=\"dataframe\">\n",
       "  <thead>\n",
       "    <tr style=\"text-align: right;\">\n",
       "      <th></th>\n",
       "      <th>Valeur</th>\n",
       "    </tr>\n",
       "    <tr>\n",
       "      <th>Pays bénéficiaire</th>\n",
       "      <th></th>\n",
       "    </tr>\n",
       "  </thead>\n",
       "  <tbody>\n",
       "    <tr>\n",
       "      <th>République arabe syrienne</th>\n",
       "      <td>1858943</td>\n",
       "    </tr>\n",
       "    <tr>\n",
       "      <th>Éthiopie</th>\n",
       "      <td>1381294</td>\n",
       "    </tr>\n",
       "    <tr>\n",
       "      <th>Yémen</th>\n",
       "      <td>1206484</td>\n",
       "    </tr>\n",
       "    <tr>\n",
       "      <th>Soudan du Sud</th>\n",
       "      <td>695248</td>\n",
       "    </tr>\n",
       "    <tr>\n",
       "      <th>Soudan</th>\n",
       "      <td>669784</td>\n",
       "    </tr>\n",
       "    <tr>\n",
       "      <th>Kenya</th>\n",
       "      <td>552836</td>\n",
       "    </tr>\n",
       "    <tr>\n",
       "      <th>Bangladesh</th>\n",
       "      <td>348188</td>\n",
       "    </tr>\n",
       "    <tr>\n",
       "      <th>Somalie</th>\n",
       "      <td>292678</td>\n",
       "    </tr>\n",
       "    <tr>\n",
       "      <th>République démocratique du Congo</th>\n",
       "      <td>288502</td>\n",
       "    </tr>\n",
       "    <tr>\n",
       "      <th>Niger</th>\n",
       "      <td>276344</td>\n",
       "    </tr>\n",
       "  </tbody>\n",
       "</table>\n",
       "</div>"
      ],
      "text/plain": [
       "                                   Valeur\n",
       "Pays bénéficiaire                        \n",
       "République arabe syrienne         1858943\n",
       "Éthiopie                          1381294\n",
       "Yémen                             1206484\n",
       "Soudan du Sud                      695248\n",
       "Soudan                             669784\n",
       "Kenya                              552836\n",
       "Bangladesh                         348188\n",
       "Somalie                            292678\n",
       "République démocratique du Congo   288502\n",
       "Niger                              276344"
      ]
     },
     "execution_count": 50,
     "metadata": {},
     "output_type": "execute_result"
    }
   ],
   "source": [
    "aide =aide.groupby(\"Pays bénéficiaire\").sum([\"Valeur\"])\n",
    "aide.drop([\"Année\"], axis=1, inplace=True)\n",
    "aide =aide.sort_values(by = 'Valeur', ascending = False)\n",
    "aide.head(10)"
   ]
  },
  {
   "cell_type": "markdown",
   "metadata": {},
   "source": [
    "## 4.3 pays ayant le plus de disponibilité/habitant"
   ]
  },
  {
   "cell_type": "code",
   "execution_count": 51,
   "metadata": {},
   "outputs": [
    {
     "data": {
      "text/plain": [
       "Zone\n",
       "Autriche                 3770.0\n",
       "Belgique                 3737.0\n",
       "Turquie                  3708.0\n",
       "États-Unis d'Amérique    3682.0\n",
       "Israël                   3610.0\n",
       "Irlande                  3602.0\n",
       "Italie                   3578.0\n",
       "Luxembourg               3540.0\n",
       "Égypte                   3518.0\n",
       "Allemagne                3503.0\n",
       "Name: Disponibilité alimentaire (Kcal/personne/jour), dtype: float64"
      ]
     },
     "metadata": {},
     "output_type": "display_data"
    }
   ],
   "source": [
    "dispo = dispo.groupby(\"Zone\").sum(['Disponibilité alimentaire (Kcal/personne/jour)'])\n",
    "dispo = dispo.sort_values(by = 'Disponibilité alimentaire (Kcal/personne/jour)', ascending = False)\n",
    "display(dispo[\"Disponibilité alimentaire (Kcal/personne/jour)\"][:10])"
   ]
  },
  {
   "cell_type": "markdown",
   "metadata": {},
   "source": [
    "## 4.3 pays ayant le moins de disponibilité/habitant"
   ]
  },
  {
   "cell_type": "code",
   "execution_count": 52,
   "metadata": {},
   "outputs": [
    {
     "data": {
      "text/plain": [
       "Zone\n",
       "République centrafricaine                     1879.0\n",
       "Zambie                                        1924.0\n",
       "Madagascar                                    2056.0\n",
       "Afghanistan                                   2087.0\n",
       "Haïti                                         2089.0\n",
       "République populaire démocratique de Corée    2093.0\n",
       "Tchad                                         2109.0\n",
       "Zimbabwe                                      2113.0\n",
       "Ouganda                                       2126.0\n",
       "Éthiopie                                      2129.0\n",
       "Name: Disponibilité alimentaire (Kcal/personne/jour), dtype: float64"
      ]
     },
     "metadata": {},
     "output_type": "display_data"
    }
   ],
   "source": [
    "dispo = dispo.sort_values(by = 'Disponibilité alimentaire (Kcal/personne/jour)', ascending = True)\n",
    "display(dispo[\"Disponibilité alimentaire (Kcal/personne/jour)\"][:10])"
   ]
  },
  {
   "cell_type": "markdown",
   "metadata": {},
   "source": [
    "# 5. conclusion\n",
    "\n",
    "- 9,1 % de la population mondiale souffre de sous nutrition.\n",
    "\n",
    "- Si la totalite de la production alimentaire etait utilisee pour la nourriture humaine, on pourrait nourrir 115% de la population mondiale.\n",
    "Ce chiffre descend a 95% si on ne compte que les vegetaux.\n",
    "\n",
    "- La thailande exporte la majorite de son manioc : 83%.\n",
    "Et est le premier exportateur mondial. Le manioc Thailandais represente 19% des importations de manioc dans le monde. \n",
    "\n",
    "- On se rend compte que sur la liste des 10 pays dont la proportion de sous nutrition est la plus elevee, \n",
    "seul le Yemen et la Republique democratique du Congo sont egalement dans la liste des pays ayant le plus beneficiee de l'aide alimentaire."
   ]
  }
 ],
 "metadata": {
  "kernelspec": {
   "display_name": "Python 3.9.13 ('base')",
   "language": "python",
   "name": "python3"
  },
  "language_info": {
   "codemirror_mode": {
    "name": "ipython",
    "version": 3
   },
   "file_extension": ".py",
   "mimetype": "text/x-python",
   "name": "python",
   "nbconvert_exporter": "python",
   "pygments_lexer": "ipython3",
   "version": "3.9.13"
  },
  "orig_nbformat": 4,
  "vscode": {
   "interpreter": {
    "hash": "460a7aed05b58b4bbf011d3c8f512441519fbd53708240bb785e52ec946a493a"
   }
  }
 },
 "nbformat": 4,
 "nbformat_minor": 2
}
